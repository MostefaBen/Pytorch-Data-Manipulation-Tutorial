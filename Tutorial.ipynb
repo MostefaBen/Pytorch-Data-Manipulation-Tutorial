{
 "cells": [
  {
   "cell_type": "code",
   "execution_count": 16,
   "id": "ead02f8a",
   "metadata": {},
   "outputs": [],
   "source": [
    "# import Libraries\n",
    "import torch\n",
    "import numpy as np"
   ]
  },
  {
   "cell_type": "code",
   "execution_count": 76,
   "id": "57e0c995",
   "metadata": {},
   "outputs": [
    {
     "data": {
      "text/plain": [
       "tensor([0., 1., 2., 3., 4., 5., 6., 7., 8., 9.])"
      ]
     },
     "execution_count": 76,
     "metadata": {},
     "output_type": "execute_result"
    }
   ],
   "source": [
    "# creating a tensor (as a vector) prepopulated with values\n",
    "X_data = torch.arange(10, dtype=torch.float32)\n",
    "X_data"
   ]
  },
  {
   "cell_type": "code",
   "execution_count": 4,
   "id": "1569e281",
   "metadata": {},
   "outputs": [
    {
     "data": {
      "text/plain": [
       "10"
      ]
     },
     "execution_count": 4,
     "metadata": {},
     "output_type": "execute_result"
    }
   ],
   "source": [
    "# total number of element in a tensor\n",
    "X_data.numel()"
   ]
  },
  {
   "cell_type": "code",
   "execution_count": 5,
   "id": "512c260d",
   "metadata": {},
   "outputs": [
    {
     "data": {
      "text/plain": [
       "torch.Size([10])"
      ]
     },
     "execution_count": 5,
     "metadata": {},
     "output_type": "execute_result"
    }
   ],
   "source": [
    "# shape of each axis\n",
    "X_data.shape"
   ]
  },
  {
   "cell_type": "code",
   "execution_count": 78,
   "id": "c496098c",
   "metadata": {},
   "outputs": [
    {
     "data": {
      "text/plain": [
       "tensor([[0., 1., 2., 3., 4.],\n",
       "        [5., 6., 7., 8., 9.]])"
      ]
     },
     "execution_count": 78,
     "metadata": {},
     "output_type": "execute_result"
    }
   ],
   "source": [
    "# changing the shape of a tensor\n",
    "X_data = X_data.reshape(2, 5)\n",
    "X_data"
   ]
  },
  {
   "cell_type": "code",
   "execution_count": 74,
   "id": "690151ea",
   "metadata": {},
   "outputs": [
    {
     "data": {
      "text/plain": [
       "torch.Size([2, 5])"
      ]
     },
     "execution_count": 74,
     "metadata": {},
     "output_type": "execute_result"
    }
   ],
   "source": [
    "# shape of each axis\n",
    "X_data.shape"
   ]
  },
  {
   "cell_type": "code",
   "execution_count": 79,
   "id": "d0711b19",
   "metadata": {},
   "outputs": [
    {
     "data": {
      "text/plain": [
       "tensor([[0., 0., 0., 0., 0.],\n",
       "        [0., 0., 0., 0., 0.]])"
      ]
     },
     "execution_count": 79,
     "metadata": {},
     "output_type": "execute_result"
    }
   ],
   "source": [
    "# creating a tensor with the same shape\n",
    "Z = torch.zeros_like(X_data)\n",
    "Z"
   ]
  },
  {
   "cell_type": "code",
   "execution_count": 10,
   "id": "88e2e934",
   "metadata": {},
   "outputs": [
    {
     "data": {
      "text/plain": [
       "tensor([[[0., 0., 0., 0., 0.],\n",
       "         [0., 0., 0., 0., 0.],\n",
       "         [0., 0., 0., 0., 0.],\n",
       "         [0., 0., 0., 0., 0.]],\n",
       "\n",
       "        [[0., 0., 0., 0., 0.],\n",
       "         [0., 0., 0., 0., 0.],\n",
       "         [0., 0., 0., 0., 0.],\n",
       "         [0., 0., 0., 0., 0.]],\n",
       "\n",
       "        [[0., 0., 0., 0., 0.],\n",
       "         [0., 0., 0., 0., 0.],\n",
       "         [0., 0., 0., 0., 0.],\n",
       "         [0., 0., 0., 0., 0.]]])"
      ]
     },
     "execution_count": 10,
     "metadata": {},
     "output_type": "execute_result"
    }
   ],
   "source": [
    "# creating a tensor of zeros\n",
    "A_data = torch.zeros((3, 4, 5))\n",
    "A_data"
   ]
  },
  {
   "cell_type": "code",
   "execution_count": 11,
   "id": "64fb286c",
   "metadata": {},
   "outputs": [
    {
     "data": {
      "text/plain": [
       "tensor([[[1., 1., 1., 1., 1.],\n",
       "         [1., 1., 1., 1., 1.],\n",
       "         [1., 1., 1., 1., 1.],\n",
       "         [1., 1., 1., 1., 1.]],\n",
       "\n",
       "        [[1., 1., 1., 1., 1.],\n",
       "         [1., 1., 1., 1., 1.],\n",
       "         [1., 1., 1., 1., 1.],\n",
       "         [1., 1., 1., 1., 1.]],\n",
       "\n",
       "        [[1., 1., 1., 1., 1.],\n",
       "         [1., 1., 1., 1., 1.],\n",
       "         [1., 1., 1., 1., 1.],\n",
       "         [1., 1., 1., 1., 1.]]])"
      ]
     },
     "execution_count": 11,
     "metadata": {},
     "output_type": "execute_result"
    }
   ],
   "source": [
    "# creating a tensor of ones\n",
    "B_data = torch.ones((3, 4, 5))\n",
    "B_data"
   ]
  },
  {
   "cell_type": "code",
   "execution_count": 13,
   "id": "11126ad8",
   "metadata": {},
   "outputs": [
    {
     "data": {
      "text/plain": [
       "tensor([[-0.1987, -0.4383,  1.5985,  0.2409],\n",
       "        [ 1.3931,  0.4878,  0.8661,  0.1273],\n",
       "        [-0.7192, -0.3716, -0.0618,  1.2327],\n",
       "        [-1.1084, -0.0987,  0.5090, -0.0410]])"
      ]
     },
     "execution_count": 13,
     "metadata": {},
     "output_type": "execute_result"
    }
   ],
   "source": [
    "#  creating a tensor prepopulated with element from a standard Gaussian (normal) distribution (i.e, Mean 0 and Std 1)\n",
    "C_data = torch.randn(4, 4)\n",
    "C_data"
   ]
  },
  {
   "cell_type": "code",
   "execution_count": 14,
   "id": "9f64740f",
   "metadata": {},
   "outputs": [
    {
     "data": {
      "text/plain": [
       "tensor([[1, 2, 3],\n",
       "        [4, 5, 6],\n",
       "        [7, 8, 9]])"
      ]
     },
     "execution_count": 14,
     "metadata": {},
     "output_type": "execute_result"
    }
   ],
   "source": [
    "# Python matrix to tensor \n",
    "D_data = torch.tensor([[1, 2, 3], [4, 5, 6], [7, 8, 9]])\n",
    "D_data"
   ]
  },
  {
   "cell_type": "code",
   "execution_count": null,
   "id": "1e53de4b",
   "metadata": {},
   "outputs": [],
   "source": [
    "# Numpy matrix to tensor"
   ]
  },
  {
   "cell_type": "code",
   "execution_count": 32,
   "id": "27b25a3c",
   "metadata": {},
   "outputs": [
    {
     "data": {
      "text/plain": [
       "tensor([[1, 2, 3],\n",
       "        [4, 5, 6],\n",
       "        [7, 8, 9]], dtype=torch.int32)"
      ]
     },
     "execution_count": 32,
     "metadata": {},
     "output_type": "execute_result"
    }
   ],
   "source": [
    "D_data = torch.tensor(np.array([[1, 2, 3], [4, 5, 6], [7, 8, 9]]))\n",
    "D_data"
   ]
  },
  {
   "cell_type": "code",
   "execution_count": 18,
   "id": "a838a2ee",
   "metadata": {},
   "outputs": [
    {
     "data": {
      "text/plain": [
       "tensor([7, 8, 9], dtype=torch.int32)"
      ]
     },
     "execution_count": 18,
     "metadata": {},
     "output_type": "execute_result"
    }
   ],
   "source": [
    "# Access tensor elements by indexing\n",
    "# the last row\n",
    "D_data[-1]"
   ]
  },
  {
   "cell_type": "code",
   "execution_count": 19,
   "id": "957cc0e1",
   "metadata": {},
   "outputs": [
    {
     "data": {
      "text/plain": [
       "tensor([3, 6, 9], dtype=torch.int32)"
      ]
     },
     "execution_count": 19,
     "metadata": {},
     "output_type": "execute_result"
    }
   ],
   "source": [
    "# Access tensor elements by indexing\n",
    "# the last  column\n",
    "D_data[:, -1]"
   ]
  },
  {
   "cell_type": "code",
   "execution_count": 21,
   "id": "18daa3c6",
   "metadata": {},
   "outputs": [
    {
     "data": {
      "text/plain": [
       "tensor([[ 1,  2,  3],\n",
       "        [ 4,  5, 20],\n",
       "        [ 7,  8,  9]], dtype=torch.int32)"
      ]
     },
     "execution_count": 21,
     "metadata": {},
     "output_type": "execute_result"
    }
   ],
   "source": [
    "# changing element of a tensor\n",
    "D_data[1,2] = 20\n",
    "D_data"
   ]
  },
  {
   "cell_type": "code",
   "execution_count": 22,
   "id": "e52fd217",
   "metadata": {},
   "outputs": [
    {
     "data": {
      "text/plain": [
       "tensor([[ 1,  2,  3],\n",
       "        [ 4,  5, 20],\n",
       "        [30, 30, 30]], dtype=torch.int32)"
      ]
     },
     "execution_count": 22,
     "metadata": {},
     "output_type": "execute_result"
    }
   ],
   "source": [
    "# changing multiple elements of a tensor\n",
    "D_data[2:,:] = 30\n",
    "D_data"
   ]
  },
  {
   "cell_type": "code",
   "execution_count": 29,
   "id": "21e93c02",
   "metadata": {},
   "outputs": [
    {
     "data": {
      "text/plain": [
       "(tensor([ 6,  8, 10, 12]),\n",
       " tensor([ 5, 12, 21, 32]),\n",
       " tensor([0.2000, 0.3333, 0.4286, 0.5000]),\n",
       " tensor([-4, -4, -4, -4]),\n",
       " tensor([    1,    64,  2187, 65536]))"
      ]
     },
     "execution_count": 29,
     "metadata": {},
     "output_type": "execute_result"
    }
   ],
   "source": [
    "# Operations on tensor(+, *, /, -, **)\n",
    "X = torch.tensor([1, 2, 3, 4])\n",
    "Y = torch.tensor([5, 6, 7, 8])\n",
    "X+Y, X*Y, X/Y, X-Y, X**Y"
   ]
  },
  {
   "cell_type": "code",
   "execution_count": 27,
   "id": "0ee479ac",
   "metadata": {},
   "outputs": [
    {
     "data": {
      "text/plain": [
       "tensor([[1.0000e+00, 2.7183e+00, 7.3891e+00, 2.0086e+01, 5.4598e+01],\n",
       "        [1.4841e+02, 4.0343e+02, 1.0966e+03, 2.9810e+03, 8.1031e+03]])"
      ]
     },
     "execution_count": 27,
     "metadata": {},
     "output_type": "execute_result"
    }
   ],
   "source": [
    "# or any math elementwise operations\n",
    "torch.exp(X_data)"
   ]
  },
  {
   "cell_type": "code",
   "execution_count": 82,
   "id": "8290c5da",
   "metadata": {},
   "outputs": [
    {
     "data": {
      "text/plain": [
       "(tensor([[1., 2., 3.],\n",
       "         [4., 5., 6.],\n",
       "         [7., 8., 9.],\n",
       "         [1., 0., 3.],\n",
       "         [4., 5., 7.],\n",
       "         [7., 8., 9.]]),\n",
       " tensor([[1., 2., 3., 1., 0., 3.],\n",
       "         [4., 5., 6., 4., 5., 7.],\n",
       "         [7., 8., 9., 7., 8., 9.]]))"
      ]
     },
     "execution_count": 82,
     "metadata": {},
     "output_type": "execute_result"
    }
   ],
   "source": [
    "# tensor concatenation\n",
    "X = torch.arange(1, 10, dtype=torch.float32).reshape(3, 3)\n",
    "Y = torch.tensor([[1, 0, 3], [4, 5, 7], [7, 8, 9]])\n",
    "torch.cat([X, Y], dim=0), torch.cat([X, Y], dim=1)"
   ]
  },
  {
   "cell_type": "code",
   "execution_count": 64,
   "id": "0f6124b9",
   "metadata": {},
   "outputs": [
    {
     "data": {
      "text/plain": [
       "tensor([[ True, False,  True],\n",
       "        [ True,  True, False],\n",
       "        [ True,  True,  True]])"
      ]
     },
     "execution_count": 64,
     "metadata": {},
     "output_type": "execute_result"
    }
   ],
   "source": [
    "# constructing a tensor with logical statements\n",
    "X == Y"
   ]
  },
  {
   "cell_type": "code",
   "execution_count": 66,
   "id": "0eab9d5c",
   "metadata": {},
   "outputs": [
    {
     "data": {
      "text/plain": [
       "(tensor([[1., 2., 3.],\n",
       "         [4., 5., 6.],\n",
       "         [7., 8., 9.]]),\n",
       " tensor(45.))"
      ]
     },
     "execution_count": 66,
     "metadata": {},
     "output_type": "execute_result"
    }
   ],
   "source": [
    "# Summing all tensor's elements\n",
    "X, X.sum()"
   ]
  },
  {
   "cell_type": "code",
   "execution_count": 67,
   "id": "212e86dc",
   "metadata": {},
   "outputs": [
    {
     "data": {
      "text/plain": [
       "(tensor([[0],\n",
       "         [1],\n",
       "         [2],\n",
       "         [3],\n",
       "         [4],\n",
       "         [5]]),\n",
       " tensor([[0, 1, 2, 3]]))"
      ]
     },
     "execution_count": 67,
     "metadata": {},
     "output_type": "execute_result"
    }
   ],
   "source": [
    "# broadcasting mechanism on tensors\n",
    "C = torch.arange(6).reshape((6, 1))\n",
    "D = torch.arange(4).reshape((1, 4))\n",
    "C, D"
   ]
  },
  {
   "cell_type": "code",
   "execution_count": 69,
   "id": "376fe6f8",
   "metadata": {},
   "outputs": [
    {
     "data": {
      "text/plain": [
       "(tensor([[0, 1, 2, 3],\n",
       "         [1, 2, 3, 4],\n",
       "         [2, 3, 4, 5],\n",
       "         [3, 4, 5, 6],\n",
       "         [4, 5, 6, 7],\n",
       "         [5, 6, 7, 8]]),\n",
       " torch.Size([6, 4]))"
      ]
     },
     "execution_count": 69,
     "metadata": {},
     "output_type": "execute_result"
    }
   ],
   "source": [
    "C + D, (C + D).shape"
   ]
  },
  {
   "cell_type": "code",
   "execution_count": 83,
   "id": "7d124303",
   "metadata": {},
   "outputs": [
    {
     "name": "stdout",
     "output_type": "stream",
     "text": [
      "before id(X):  198044864\n",
      "After id(X):  197988000\n"
     ]
    }
   ],
   "source": [
    "# Saving memory by asigning to the same memory location instead of refrencing to a new place\n",
    "before  = id(X)\n",
    "print(\"before id(X): \", id(X))\n",
    "X = X + Y\n",
    "id(X) == before\n",
    "print(\"After id(X): \", id(X))"
   ]
  },
  {
   "cell_type": "code",
   "execution_count": 84,
   "id": "c4ff43d5",
   "metadata": {},
   "outputs": [
    {
     "name": "stdout",
     "output_type": "stream",
     "text": [
      "before id(X):  197988000\n",
      "After id(X):  197988000\n"
     ]
    }
   ],
   "source": [
    "# performing in place operations to save memory\n",
    "before  = id(X)\n",
    "print(\"before id(X): \", id(X))\n",
    "X[:] = X + Y\n",
    "id(X) == before\n",
    "print(\"After id(X): \", id(X))"
   ]
  },
  {
   "cell_type": "code",
   "execution_count": 97,
   "id": "2e640518",
   "metadata": {},
   "outputs": [
    {
     "name": "stdout",
     "output_type": "stream",
     "text": [
      "<class 'torch.Tensor'> <class 'numpy.ndarray'>\n",
      "<class 'torch.Tensor'>\n"
     ]
    }
   ],
   "source": [
    "# Converting to a Numpy tensor, or vice versa\n",
    "A = X.numpy()             # from tensor to numpy \n",
    "print(type(X), type(A))   \n",
    "B = torch.tensor(A)       # from numpy to tensor\n",
    "print(type(B))"
   ]
  },
  {
   "cell_type": "code",
   "execution_count": 108,
   "id": "0ab3f04e",
   "metadata": {},
   "outputs": [
    {
     "data": {
      "text/plain": [
       "(tensor([84.1256]), 84.12560272216797, 84.12560272216797, 84)"
      ]
     },
     "execution_count": 108,
     "metadata": {},
     "output_type": "execute_result"
    }
   ],
   "source": [
    "# from tensor to Python scalar\n",
    "# only one element tensors can be converted to Python scalars !\n",
    "F = torch.tensor([84.1256])\n",
    "F, F.item(), float(F), int(F)"
   ]
  }
 ],
 "metadata": {
  "kernelspec": {
   "display_name": "Python 3 (ipykernel)",
   "language": "python",
   "name": "python3"
  },
  "language_info": {
   "codemirror_mode": {
    "name": "ipython",
    "version": 3
   },
   "file_extension": ".py",
   "mimetype": "text/x-python",
   "name": "python",
   "nbconvert_exporter": "python",
   "pygments_lexer": "ipython3",
   "version": "3.8.16"
  }
 },
 "nbformat": 4,
 "nbformat_minor": 5
}
